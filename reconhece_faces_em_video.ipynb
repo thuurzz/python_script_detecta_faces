{
 "cells": [
  {
   "cell_type": "code",
   "execution_count": 1,
   "metadata": {},
   "outputs": [],
   "source": [
    "import cv2"
   ]
  },
  {
   "cell_type": "code",
   "execution_count": 2,
   "metadata": {},
   "outputs": [],
   "source": [
    "# Função utilizada para redimensionar a imagem de entrada\n",
    "def redim(img, largura):\n",
    "    # Calcula a proporção da imagem\n",
    "    alt = int(img.shape[0] / img.shape[1] * largura)\n",
    "    # Redimensiona a imagem\n",
    "    img = cv2.resize(img, (largura, alt), interpolation=cv2.INTER_AREA)\n",
    "    # Retorna a imagem redimensionada\n",
    "    return img\n"
   ]
  },
  {
   "cell_type": "code",
   "execution_count": 3,
   "metadata": {},
   "outputs": [],
   "source": [
    "def detecta_rostos_em_video(df, camera, largura_redimensionada_saida, fps_saida, caminho_saida):\n",
    "    # Inicializa contadores\n",
    "    contador_total = 0\n",
    "    contador_acertos = 0\n",
    "\n",
    "    # Configurações de redimensionamento\n",
    "    altura_redimensionada = int(camera.get(cv2.CAP_PROP_FRAME_HEIGHT) *\n",
    "                                largura_redimensionada_saida / camera.get(cv2.CAP_PROP_FRAME_WIDTH))\n",
    "\n",
    "    # Configurações do vídeo de saída\n",
    "    nome_video_saida = f'{caminho_saida}/deteccao_rostos_saida.mp4'\n",
    "    codec = cv2.VideoWriter_fourcc(*'mp4v')  # Codec para vídeo MP4\n",
    "\n",
    "    # Inicializar o objeto VideoWriter\n",
    "    video_saida = cv2.VideoWriter(\n",
    "        nome_video_saida, codec, fps_saida, (largura_redimensionada_saida, altura_redimensionada))\n",
    "\n",
    "    while True:\n",
    "        # Ler o próximo frame\n",
    "        (sucesso, frame) = camera.read()\n",
    "        if not sucesso:\n",
    "            break\n",
    "        # Redimensionar o frame de entrada\n",
    "        frame = redim(frame, largura_redimensionada_saida)\n",
    "        # Converter o frame para tons de cinza\n",
    "        frame_pb = cv2.cvtColor(frame, cv2.COLOR_BGR2GRAY)\n",
    "        # Detectar rostos no frame\n",
    "        faces = df.detectMultiScale(frame_pb, scaleFactor=1.1, minNeighbors=3, minSize=(\n",
    "            20, 20), flags=cv2.CASCADE_SCALE_IMAGE)\n",
    "        # Desenhar retângulos nos rostos detectados\n",
    "        frame_temp = frame.copy()\n",
    "        for (x, y, lar, alt) in faces:\n",
    "            cv2.rectangle(frame_temp, (x, y),\n",
    "                          (x + lar, y + alt), (0, 255, 255), 2)\n",
    "\n",
    "        # Atualiza os contadores\n",
    "        contador_total += 1\n",
    "        if len(faces) > 0:\n",
    "            contador_acertos += 1\n",
    "\n",
    "        # Escrever o frame processado no vídeo de saída\n",
    "        video_saida.write(frame_temp)\n",
    "\n",
    "        # Interrompe o loop quando pressionar a tecla \"s\"\n",
    "        if cv2.waitKey(1) & 0xFF == ord(\"s\"):\n",
    "            break\n",
    "\n",
    "    # Imprime os resultados\n",
    "    print(f\"Acertos totais: {contador_acertos}\")\n",
    "    print(f\"Total de frames: {contador_total}\")\n",
    "\n",
    "    # Calcula e imprime a porcentagem de acertos\n",
    "    porcentagem_acertos = (contador_acertos / contador_total) * 100\n",
    "    print(\n",
    "        f'Porcentagem de frames com pelo menos um rosto detectado: {porcentagem_acertos}%')\n",
    "\n",
    "    # Libera os objetos\n",
    "    camera.release()\n",
    "    # Fechar o objeto VideoWriter\n",
    "    video_saida.release()\n",
    "    # Fechar todas as janelas\n",
    "    cv2.destroyAllWindows()\n"
   ]
  },
  {
   "cell_type": "code",
   "execution_count": 5,
   "metadata": {},
   "outputs": [
    {
     "name": "stderr",
     "output_type": "stream",
     "text": [
      "[aac @ 0x132fadbb0] Input buffer exhausted before END element found\n"
     ]
    },
    {
     "name": "stdout",
     "output_type": "stream",
     "text": [
      "Acertos totais: 404\n",
      "Total de frames: 511\n",
      "Porcentagem de frames com pelo menos um rosto detectado: 79.06066536203522%\n"
     ]
    }
   ],
   "source": [
    "df = cv2.CascadeClassifier(\n",
    "    './opencv/data/haarcascades/haarcascade_frontalface_alt.xml')\n",
    "camera = cv2.VideoCapture(\n",
    "    './videos/video_frontal_face.mp4')\n",
    "caminho_saida = './videos'\n",
    "largura_redimensionada = 1080\n",
    "fps_saida = 30\n",
    "\n",
    "detecta_rostos_em_video(\n",
    "    df, camera, largura_redimensionada, fps_saida, caminho_saida)\n"
   ]
  }
 ],
 "metadata": {
  "kernelspec": {
   "display_name": "Python 3",
   "language": "python",
   "name": "python3"
  },
  "language_info": {
   "codemirror_mode": {
    "name": "ipython",
    "version": 3
   },
   "file_extension": ".py",
   "mimetype": "text/x-python",
   "name": "python",
   "nbconvert_exporter": "python",
   "pygments_lexer": "ipython3",
   "version": "3.11.3"
  },
  "orig_nbformat": 4
 },
 "nbformat": 4,
 "nbformat_minor": 2
}
